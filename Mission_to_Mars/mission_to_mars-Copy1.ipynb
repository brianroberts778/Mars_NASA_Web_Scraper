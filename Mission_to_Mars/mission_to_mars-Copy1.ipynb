{
 "cells": [
  {
   "cell_type": "code",
   "execution_count": 39,
   "metadata": {},
   "outputs": [],
   "source": [
    "# Import Dependencies\n",
    "import pandas as pd\n",
    "import requests\n",
    "import pymongo\n",
    "from flask import Flask, render_template\n",
    "from splinter import Browser\n",
    "from bs4 import BeautifulSoup as bs\n",
    "from webdriver_manager.chrome import ChromeDriverManager"
   ]
  },
  {
   "cell_type": "code",
   "execution_count": 42,
   "metadata": {},
   "outputs": [],
   "source": [
    "def init_browser():\n",
    "    executable_path = {'chromedriver':'../Documents/chromedriver'}\n",
    "    return Browser('chrome', executable_path, headless=False)"
   ]
  },
  {
   "cell_type": "code",
   "execution_count": 43,
   "metadata": {},
   "outputs": [],
   "source": [
    "def scrape_info():\n",
    "    browser = init_broswer()\n",
    "    final_dict = {}\n",
    "    \n",
    "    # Visit NASA Mars News Site \n",
    "    news_url = \"https://mars.nasa.gov/news/?page=0&per_page=40&order=publish_date+desc%2Ccreated_at+desc&search=&category=19%2C165%2C184%2C204&blank_scope=Latest\"\n",
    "    browser.visit(news_url)\n",
    "    html = browser.html\n",
    "    news_soup = bs(html, \"html.parser\")\n",
    "    \n",
    "    # Scrape title and paragraph info\n",
    "    news_title = news_soup.find_all('div', class_='content_title')[0].text\n",
    "    news_p = news_soup.find_all('div', class_='article_teaser_body')[0].text\n",
    "    \n",
    "    # Visit the JPL Mars Space Site and scrap featured images\n",
    "    jpl_url = \"https://www.jpl.nasa.gov/spaceimages/?search=&category=Mars\"\n",
    "    browser.visit(jpl_url)\n",
    "    html = browser.html\n",
    "    img_soup = bs(html, \"html.parser\")\n",
    "    \n",
    "    # Scrape full size image link\n",
    "    img_path = img_soup.find_all('img')[0][\"src\"]\n",
    "    featured_img_url = jpl_url + img_path\n",
    "    \n",
    "    # Visit the Mars Facts webpage and scrape for facts including diameter, mass, etc.\n",
    "    # Save these values in a HTML table string\n",
    "    facts_url = \"https://space-facts.com/mars/\"\n",
    "    facts_table = pd.read_html(facts_url)\n",
    "    facts_df = facts_table[2]\n",
    "    facts_df.columns = [\"Variable\",\"Value\"]\n",
    "    html_table = facts_df.to_html()\n",
    "    html_table.replace('\\n','')\n",
    "    \n",
    "    \n",
    "    # Visit the USGS Astrology site to obtain high res. images for each of Mars' hemispheres\n",
    "    # Links for each hemisphere are needed to find their respective images\n",
    "    hemis_url = \"https://astrogeology.usgs.gov/search/results?q=hemisphere+enhanced&k1=target&v1=Mars\"\n",
    "    browser.visit(hemis_url)\n",
    "    hemis_html = browser.html\n",
    "    hemis_soup = bs(hemis_html,'html.parser')\n",
    "    # Save both the image url string for the full resolution hemisphere image and...\n",
    "    # ...the Hemisphere title containing the hemisphere name. Use a Python dictionary to...\n",
    "    # store data and append the dict. with the img-url string and hemi title\n",
    "    \n",
    "    \n",
    "    \n",
    "    final_dict = {'news_title':news_title,\n",
    "                 'news_p':news_p,\n",
    "                 'featured_img_url':featured_img_url,\n",
    "                 'fact_table':str(html_table)}\n",
    "    \n",
    "    return final_dict"
   ]
  },
  {
   "cell_type": "code",
   "execution_count": null,
   "metadata": {},
   "outputs": [],
   "source": []
  }
 ],
 "metadata": {
  "kernelspec": {
   "display_name": "Python 3",
   "language": "python",
   "name": "python3"
  },
  "language_info": {
   "codemirror_mode": {
    "name": "ipython",
    "version": 3
   },
   "file_extension": ".py",
   "mimetype": "text/x-python",
   "name": "python",
   "nbconvert_exporter": "python",
   "pygments_lexer": "ipython3",
   "version": "3.6.10"
  }
 },
 "nbformat": 4,
 "nbformat_minor": 4
}
